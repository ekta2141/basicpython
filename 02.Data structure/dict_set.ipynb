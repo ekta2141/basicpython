{
 "cells": [
  {
   "cell_type": "code",
   "execution_count": 2,
   "metadata": {},
   "outputs": [
    {
     "name": "stdout",
     "output_type": "stream",
     "text": [
      "Ekta\n",
      "24\n",
      "A\n"
     ]
    }
   ],
   "source": [
    "studen_info = {'Name':'Ekta','Age':'24','Grade':'A'}\n",
    "print(studen_info['Name'])\n",
    "print(studen_info['Age'])\n",
    "print(studen_info['Grade'])"
   ]
  },
  {
   "cell_type": "code",
   "execution_count": 3,
   "metadata": {},
   "outputs": [
    {
     "name": "stdout",
     "output_type": "stream",
     "text": [
      "{'Name': 'Ekta', 'Age': '24', 'Grade': 'A', 'City': 'New York', 'marks': 95}\n"
     ]
    }
   ],
   "source": [
    "additional_info = {'City':\"New York\",'marks':95}\n",
    "studen_info.update(additional_info)\n",
    "print(studen_info)\n"
   ]
  },
  {
   "cell_type": "code",
   "execution_count": 6,
   "metadata": {},
   "outputs": [
    {
     "name": "stdout",
     "output_type": "stream",
     "text": [
      "('Grade', 'A')\n"
     ]
    }
   ],
   "source": [
    "last_value = studen_info.popitem()\n",
    "# print(studen_info)\n",
    "print(last_value)\n"
   ]
  },
  {
   "cell_type": "code",
   "execution_count": null,
   "metadata": {},
   "outputs": [],
   "source": [
    "\n"
   ]
  }
 ],
 "metadata": {
  "kernelspec": {
   "display_name": "Python 3",
   "language": "python",
   "name": "python3"
  },
  "language_info": {
   "codemirror_mode": {
    "name": "ipython",
    "version": 3
   },
   "file_extension": ".py",
   "mimetype": "text/x-python",
   "name": "python",
   "nbconvert_exporter": "python",
   "pygments_lexer": "ipython3",
   "version": "3.12.6"
  }
 },
 "nbformat": 4,
 "nbformat_minor": 2
}
