{
 "cells": [
  {
   "cell_type": "code",
   "execution_count": 10,
   "metadata": {},
   "outputs": [
    {
     "name": "stdout",
     "output_type": "stream",
     "text": [
      "Highest score in the class:95\n",
      "Average score in the class:86.00\n",
      "Students scoring above 80:['Bob', 'Charlie', 'David', 'Emma']\n",
      "Students name in Alphabetical order:['Alice', 'Bob', 'Charlie', 'David', 'Emma']\n"
     ]
    }
   ],
   "source": [
    "student_names = [\"Alice\", \"Bob\", \"Charlie\", \"David\", \"Emma\"]\n",
    "scores = [75, 92, 80, 88, 95]\n",
    "\n",
    "highest_scores = max(scores)\n",
    "print(f\"Highest score in the class:{highest_scores}\")\n",
    "\n",
    "average_scores = sum(scores) / len(scores)\n",
    "print(f\"Average score in the class:{average_scores:.2f}\")\n",
    "\n",
    "threshold = 80\n",
    "above_threshold = [name for name,scores in zip(student_names,scores)if scores>=threshold]\n",
    "print(f\"Students scoring above {threshold}:{above_threshold}\")\n",
    "\n",
    "sorted_names = sorted(student_names)\n",
    "print(f\"Students name in Alphabetical order:{sorted_names}\")\n",
    "\n"
   ]
  },
  {
   "cell_type": "code",
   "execution_count": 13,
   "metadata": {},
   "outputs": [
    {
     "name": "stdout",
     "output_type": "stream",
     "text": [
      "[1, 4, 9, 16, 25, 36, 49, 64, 81, 100]\n",
      "[1, 8, 27, 64, 125, 216, 343, 512, 729, 1000]\n"
     ]
    }
   ],
   "source": [
    "squares = [x**2 for x in range(1,11)]\n",
    "cubes = [x**3 for x in range(1,11)]\n",
    "\n",
    "print(squares)\n",
    "print(cubes)"
   ]
  },
  {
   "cell_type": "code",
   "execution_count": 14,
   "metadata": {},
   "outputs": [
    {
     "name": "stdout",
     "output_type": "stream",
     "text": [
      "[3125, 7776, 16807, 32768]\n"
     ]
    }
   ],
   "source": [
    "fifth_tower = [x**5 for x in range(5,9)]\n",
    "print(fifth_tower)"
   ]
  },
  {
   "cell_type": "code",
   "execution_count": 20,
   "metadata": {},
   "outputs": [
    {
     "name": "stdout",
     "output_type": "stream",
     "text": [
      "Original Numbers: [-5, 3, -8, 10, -2, 7, -1, 6]\n",
      "Positive numbers: [3, 10, 7, 6]\n"
     ]
    }
   ],
   "source": [
    "numbers = [-5,3,-8,10,-2,7,-1,6]\n",
    "\n",
    "positive_numbers = [num for num in numbers if num > 0]\n",
    "print(\"Original Numbers:\", numbers)\n",
    "print(\"Positive numbers:\",positive_numbers)\n",
    "\n",
    "\n"
   ]
  },
  {
   "cell_type": "code",
   "execution_count": 24,
   "metadata": {},
   "outputs": [
    {
     "name": "stdout",
     "output_type": "stream",
     "text": [
      "Original Students name: ['Bob', 'Charlie', 'Emma', 'Alice', 'David']\n",
      "Sorted Students names: ['Alice', 'Bob', 'Charlie', 'David', 'Emma']\n"
     ]
    }
   ],
   "source": [
    "# Sample list of student names\n",
    "student_names = [ \"Bob\", \"Charlie\", \"Emma\",\"Alice\", \"David\"]\n",
    "\n",
    "sorted_names = sorted(student_names)\n",
    "print(\"Original Students name:\",student_names)\n",
    "print(\"Sorted Students names:\",sorted_names)\n",
    " "
   ]
  },
  {
   "cell_type": "code",
   "execution_count": 43,
   "metadata": {},
   "outputs": [
    {
     "name": "stdout",
     "output_type": "stream",
     "text": [
      "Total salary of all employees: $0\n",
      "Total salary of all employees: $165000\n"
     ]
    }
   ],
   "source": [
    "employees = []\n",
    "\n",
    "def add_employee(employee_id , name , salary):\n",
    "    employee = (employee_id , name , salary)\n",
    "    employees.append(employee)\n",
    "    # print(f\"Employee {name} added successfully!\")\n",
    "\n",
    "def calculate_total_salary():\n",
    "    # print(\"employees\",employees)\n",
    "    total_salary = sum(employee[2] for employee in employees)\n",
    "    return total_salary\n",
    "\n",
    "\"\"\"\n",
    "yaha pe function call nhi hua hai add_employee to saare value blank hoga\"\"\"\n",
    "\n",
    "# print(\"Before function call\")\n",
    "total_salary = calculate_total_salary()\n",
    "print(f\"Total salary of all employees: ${total_salary}\")    \n",
    "\n",
    "add_employee(1, \"John Doe\", 50000)\n",
    "add_employee(2, \"Jane Smith\", 60000)\n",
    "add_employee(3, \"Alice Johnson\", 55000)\n",
    "\n",
    "\n",
    "\"\"\"yaha pe function ho gaya h employees list ke andar data aaya h function call karne ke baad\"\"\"\n",
    "\n",
    "# print(\"After add emoployee function call\")\n",
    "total_salary = calculate_total_salary()\n",
    "print(f\"Total salary of all employees: ${total_salary}\")\n"
   ]
  },
  {
   "cell_type": "code",
   "execution_count": 34,
   "metadata": {},
   "outputs": [],
   "source": [
    "# by default agar value nhi h to vo 0 value lega"
   ]
  },
  {
   "cell_type": "code",
   "execution_count": 56,
   "metadata": {},
   "outputs": [
    {
     "name": "stdout",
     "output_type": "stream",
     "text": [
      "Employee John Doe added successfully!\n",
      "Employee Jane Smith added successfully!\n",
      "Employee Alice Johnson added successfully!\n",
      "Total salary of all employees: $165000\n",
      "The employee with the highest salary is:Jane Smith with a salary of 60000\n"
     ]
    }
   ],
   "source": [
    "employees = []\n",
    "\n",
    "def add_employee(employee_id , name , salary):\n",
    "    employee = (employee_id , name , salary)\n",
    "    employees.append(employee)\n",
    "    print(f\"Employee {name} added successfully!\")\n",
    "\n",
    "def calculate_total_salary():\n",
    "    total_salary = sum(employee[2] for employee in employees)\n",
    "    return total_salary\n",
    "\n",
    "def find_highest_salary():\n",
    "    if not employees:\n",
    "        return None\n",
    "    highest_paid_salary = max(employees,key=lambda employee:employee[2])\n",
    "    return highest_paid_salary\n",
    "\n",
    "add_employee(1, \"John Doe\", 50000)\n",
    "add_employee(2, \"Jane Smith\", 60000)\n",
    "add_employee(3, \"Alice Johnson\", 55000)\n",
    "\n",
    "print(f\"Total salary of all employees: ${total_salary}\")\n",
    "\n",
    "highest_paid = find_highest_salary()\n",
    "if highest_paid:\n",
    "    print(f\"The employee with the highest salary is:{highest_paid[1]} with a salary of {highest_paid[2]}\")\n",
    "\n",
    "\n"
   ]
  },
  {
   "cell_type": "code",
   "execution_count": null,
   "metadata": {},
   "outputs": [],
   "source": []
  }
 ],
 "metadata": {
  "kernelspec": {
   "display_name": "Python 3",
   "language": "python",
   "name": "python3"
  },
  "language_info": {
   "codemirror_mode": {
    "name": "ipython",
    "version": 3
   },
   "file_extension": ".py",
   "mimetype": "text/x-python",
   "name": "python",
   "nbconvert_exporter": "python",
   "pygments_lexer": "ipython3",
   "version": "3.12.6"
  }
 },
 "nbformat": 4,
 "nbformat_minor": 2
}
